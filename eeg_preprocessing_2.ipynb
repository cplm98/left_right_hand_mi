{
 "cells": [
  {
   "cell_type": "code",
   "execution_count": null,
   "id": "3760c9a2-0b0e-4537-835d-47bb2913c51d",
   "metadata": {},
   "outputs": [],
   "source": [
    "from scipy.io import loadmat\n",
    "import numpy as np\n",
    "import matplotlib.pyplot as plt"
   ]
  },
  {
   "cell_type": "code",
   "execution_count": null,
   "id": "a2df8689-c750-4fed-9a4c-dbba7697b177",
   "metadata": {},
   "outputs": [],
   "source": [
    "mat_file_path = 'Data/s01.mat' \n",
    "\n",
    "mat = loadmat(\n",
    "    mat_file_path,\n",
    "    struct_as_record=False,   # access fields as attributes\n",
    "    squeeze_me=True,          # drop trivial dimensions (so 1x1 -> scalar)\n",
    "    simplify_cells=True       # convert MATLAB cell arrays to Python lists\n",
    ")"
   ]
  },
  {
   "cell_type": "code",
   "execution_count": null,
   "id": "e0824ba4-c588-4214-9e79-eb60b5f9b8a9",
   "metadata": {},
   "outputs": [],
   "source": [
    "print(mat[\"eeg\"].keys())"
   ]
  },
  {
   "cell_type": "code",
   "execution_count": null,
   "id": "0a5781cb-1b6f-4bf9-8f29-5e507cf1ded7",
   "metadata": {},
   "outputs": [],
   "source": []
  }
 ],
 "metadata": {
  "kernelspec": {
   "display_name": "Python 3 (ipykernel)",
   "language": "python",
   "name": "python3"
  },
  "language_info": {
   "codemirror_mode": {
    "name": "ipython",
    "version": 3
   },
   "file_extension": ".py",
   "mimetype": "text/x-python",
   "name": "python",
   "nbconvert_exporter": "python",
   "pygments_lexer": "ipython3",
   "version": "3.11.11"
  }
 },
 "nbformat": 4,
 "nbformat_minor": 5
}
