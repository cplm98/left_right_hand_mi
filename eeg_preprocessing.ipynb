{
 "cells": [
  {
   "cell_type": "code",
   "execution_count": 1,
   "id": "a6453500-6986-4bba-83cf-ea352aa17d5a",
   "metadata": {},
   "outputs": [],
   "source": [
    "from scipy.io import loadmat\n",
    "import numpy as np\n",
    "import matplotlib.pyplot as plt\n",
    "# np.set_printoptions(threshold=np.inf, linewidth=200, suppress=True)"
   ]
  },
  {
   "cell_type": "code",
   "execution_count": 2,
   "id": "5c538c21-d11f-4aec-a41d-ba0dd30c2723",
   "metadata": {},
   "outputs": [],
   "source": [
    "# Path to your .mat file\n",
    "mat_file_path = 'Data/s01.mat' \n",
    "\n",
    "mat = loadmat(\n",
    "    mat_file_path,\n",
    "    struct_as_record=False,   # access fields as attributes\n",
    "    squeeze_me=True,          # drop trivial dimensions (so 1x1 -> scalar)\n",
    "    simplify_cells=True       # convert MATLAB cell arrays to Python lists\n",
    ")"
   ]
  },
  {
   "cell_type": "code",
   "execution_count": 3,
   "id": "d701724c-705e-418d-9219-7ed405fbb072",
   "metadata": {},
   "outputs": [
    {
     "name": "stdout",
     "output_type": "stream",
     "text": [
      "dict_keys(['noise', 'rest', 'srate', 'movement_left', 'movement_right', 'movement_event', 'n_movement_trials', 'imagery_left', 'imagery_right', 'n_imagery_trials', 'frame', 'imagery_event', 'comment', 'subject', 'bad_trial_indices', 'psenloc', 'senloc'])\n"
     ]
    }
   ],
   "source": [
    "print(mat[\"eeg\"].keys())"
   ]
  },
  {
   "cell_type": "code",
   "execution_count": 4,
   "id": "2f721951-d30b-4470-ac28-d1b7a9043a3e",
   "metadata": {},
   "outputs": [
    {
     "name": "stdout",
     "output_type": "stream",
     "text": [
      "noise\n",
      "rest\n",
      "srate\n",
      "movement_left\n",
      "movement_right\n",
      "movement_event\n",
      "n_movement_trials\n",
      "imagery_left\n",
      "imagery_right\n",
      "n_imagery_trials\n",
      "frame\n",
      "imagery_event\n",
      "comment\n",
      "subject\n",
      "bad_trial_indices\n",
      "psenloc\n",
      "senloc\n"
     ]
    }
   ],
   "source": [
    "for key in mat[\"eeg\"].keys():\n",
    "    print(key)"
   ]
  },
  {
   "cell_type": "code",
   "execution_count": 16,
   "id": "0ae9068c-fd05-43a9-974c-1840c8cfd065",
   "metadata": {},
   "outputs": [
    {
     "name": "stdout",
     "output_type": "stream",
     "text": [
      "Key:  noise\n",
      "Type:  <class 'numpy.ndarray'>\n",
      "Shape:  (5,)\n",
      "n/n\n",
      "Key:  rest\n",
      "Type:  <class 'numpy.ndarray'>\n",
      "Shape:  (68, 34048)\n",
      "n/n\n",
      "Key:  srate\n",
      "Type:  <class 'int'>\n",
      "No associated shape, Value ->  512\n",
      "n/n\n",
      "Key:  movement_left\n",
      "Type:  <class 'numpy.ndarray'>\n",
      "Shape:  (68, 71680)\n",
      "n/n\n",
      "Key:  movement_right\n",
      "Type:  <class 'numpy.ndarray'>\n",
      "Shape:  (68, 71680)\n",
      "n/n\n",
      "Key:  movement_event\n",
      "Type:  <class 'numpy.ndarray'>\n",
      "Shape:  (71680,)\n",
      "n/n\n",
      "Key:  n_movement_trials\n",
      "Type:  <class 'int'>\n",
      "No associated shape, Value ->  20\n",
      "n/n\n",
      "Key:  imagery_left\n",
      "Type:  <class 'numpy.ndarray'>\n",
      "Shape:  (68, 358400)\n",
      "n/n\n",
      "Key:  imagery_right\n",
      "Type:  <class 'numpy.ndarray'>\n",
      "Shape:  (68, 358400)\n",
      "n/n\n",
      "Key:  n_imagery_trials\n",
      "Type:  <class 'int'>\n",
      "No associated shape, Value ->  100\n",
      "n/n\n",
      "Key:  frame\n",
      "Type:  <class 'numpy.ndarray'>\n",
      "Shape:  (2,)\n",
      "n/n\n",
      "Key:  imagery_event\n",
      "Type:  <class 'numpy.ndarray'>\n",
      "Shape:  (358400,)\n",
      "n/n\n",
      "Key:  comment\n",
      "Type:  <class 'str'>\n",
      "No associated shape, Value ->  bci2011v1 left/right motor imagery\n",
      "n/n\n",
      "Key:  subject\n",
      "Type:  <class 'str'>\n",
      "No associated shape, Value ->  subject 1\n",
      "n/n\n",
      "Key:  bad_trial_indices\n",
      "Type:  <class 'dict'>\n",
      "No associated shape, Value ->  {'bad_trial_idx_voltage': array([array([], dtype=uint8), array([], dtype=uint8)], dtype=object), 'bad_trial_idx_mi': array([array([], dtype=uint8), array([], dtype=uint8)], dtype=object)}\n",
      "n/n\n",
      "Key:  psenloc\n",
      "Type:  <class 'numpy.ndarray'>\n",
      "Shape:  (64, 3)\n",
      "n/n\n",
      "Key:  senloc\n",
      "Type:  <class 'numpy.ndarray'>\n",
      "Shape:  (64, 3)\n",
      "n/n\n"
     ]
    }
   ],
   "source": [
    "eeg = mat[\"eeg\"]\n",
    "for key in eeg.keys():\n",
    "    data = eeg[key]\n",
    "    print(\"Key: \", key)\n",
    "    print(\"Type: \", type(data))\n",
    "    try:\n",
    "        print(\"Shape: \", data.shape)\n",
    "    except:\n",
    "        print(\"No associated shape, Value -> \", data)\n",
    "        \n",
    "    print(\"n/n\")\n",
    "    "
   ]
  },
  {
   "cell_type": "code",
   "execution_count": 6,
   "id": "0149e0ad-e515-49c4-bb46-624ba13046c4",
   "metadata": {},
   "outputs": [
    {
     "name": "stdout",
     "output_type": "stream",
     "text": [
      "bci2011v1 left/right motor imagery\n",
      "subject 1\n"
     ]
    }
   ],
   "source": [
    "print(eeg[\"comment\"])\n",
    "print(eeg[\"subject\"])"
   ]
  },
  {
   "cell_type": "code",
   "execution_count": 7,
   "id": "fba0d41c-3612-4629-843d-08d759b8485c",
   "metadata": {},
   "outputs": [
    {
     "name": "stdout",
     "output_type": "stream",
     "text": [
      "[-2000  5000]\n"
     ]
    }
   ],
   "source": [
    "print(eeg[\"frame\"])"
   ]
  },
  {
   "cell_type": "code",
   "execution_count": 15,
   "id": "702241c1-0672-4b3b-bd53-4a5cab16d65f",
   "metadata": {},
   "outputs": [
    {
     "name": "stdout",
     "output_type": "stream",
     "text": [
      "[0 1]\n"
     ]
    }
   ],
   "source": [
    "print(np.unique(eeg[\"imagery_event\"]))"
   ]
  },
  {
   "cell_type": "code",
   "execution_count": 19,
   "id": "5a7eb17a-e318-4ff8-a545-9f91095cbd62",
   "metadata": {},
   "outputs": [
    {
     "name": "stdout",
     "output_type": "stream",
     "text": [
      "Original movement left shape:  (68, 71680)\n",
      "(64, 3584, 20)\n"
     ]
    }
   ],
   "source": [
    "### Starting with Movement Left Data and exploring PSD ###\n",
    "\n",
    "\n",
    "movement_left = eeg[\"movement_left\"]\n",
    "print(\"Original movement left shape: \", movement_left.shape)\n",
    "\n",
    "fs = eeg[\"srate\"]\n",
    "data = movement_left[:64, :]  # EEG channels only, drop the auxiliary channels\n",
    "n_trials = eeg[\"n_movement_trials\"]\n",
    "samples_per_trial = data.shape[1] // n_trials\n",
    "epochs = np.reshape(data, (64, samples_per_trial, n_trials), order='F')\n",
    "print(epochs.shape)"
   ]
  },
  {
   "cell_type": "code",
   "execution_count": 31,
   "id": "6ba557f1-f668-44b5-83d5-35e0c55b3948",
   "metadata": {},
   "outputs": [
    {
     "name": "stdout",
     "output_type": "stream",
     "text": [
      "[[  -9773.996   -9950.996  -10090.496   -9941.496  -10098.996]\n",
      " [-168767.25  -168754.5   -168889.75  -168742.25  -168829.   ]\n",
      " [-168224.25  -168037.5   -168162.75  -168323.75  -168639.5  ]\n",
      " [ 393200.5    393191.25   392958.     392815.     392680.25 ]\n",
      " [ 483607.25   483541.75   483300.     483150.75   483144.75 ]]\n"
     ]
    }
   ],
   "source": [
    "print(epochs[:5,:5,0])"
   ]
  },
  {
   "cell_type": "code",
   "execution_count": 32,
   "id": "753cd8cd-9af2-4fb7-990a-89dbd8830394",
   "metadata": {},
   "outputs": [
    {
     "name": "stdout",
     "output_type": "stream",
     "text": [
      "frequency: f\n",
      "Pxx:  [3.27999094e+05 9.60666562e+05 1.04702675e+06 7.51579375e+05\n",
      " 4.64011000e+05 3.03348438e+05 1.82719875e+05 1.07683547e+05\n",
      " 6.78772422e+04 4.89617148e+04 2.98046934e+04 1.58034756e+04\n",
      " 1.21423770e+04 8.74087402e+03 4.26708643e+03 5.62677979e+03\n",
      " 6.03632080e+03 3.51862964e+03 5.76556250e+03 8.00104736e+03\n",
      " 7.17045996e+03 4.90168896e+03 8.79181836e+03 1.25823164e+04\n",
      " 9.50388086e+03 3.46014404e+03 2.08142554e+03 1.40945813e+03\n",
      " 1.05618225e+03 1.06342322e+03 1.50216821e+03 1.33335181e+03\n",
      " 6.59001465e+02 5.20290161e+02 5.59653748e+02 7.92957031e+02\n",
      " 8.09273254e+02 6.58111572e+02 9.01147888e+02 1.26607251e+03\n",
      " 1.52525146e+03 2.93518164e+03 1.00017712e+03 9.66275818e+02\n",
      " 3.13834448e+03 3.22579663e+03 1.46667139e+03 9.34027649e+02\n",
      " 1.09017554e+03 1.83438208e+03 1.34152100e+03 1.49963013e+03\n",
      " 8.56054138e+02 1.70703442e+03 1.65280176e+03 1.15979968e+03\n",
      " 1.22642712e+03 5.59613220e+02 4.40078156e+02 1.01014178e+03\n",
      " 1.43637415e+03 1.04552637e+03 1.01279700e+03 9.32948364e+02\n",
      " 5.92980164e+02 5.23110535e+02 2.63236481e+02 4.18920013e+02\n",
      " 5.32328491e+02 4.32478577e+02 2.84723297e+02 4.22961029e+02\n",
      " 5.48268921e+02 7.33799194e+02 5.04832581e+02 1.67948090e+02\n",
      " 2.00279144e+02 3.93048492e+02 6.09976074e+02 5.74088013e+02\n",
      " 7.46103821e+02 8.00858765e+02 4.52184692e+02 6.79047058e+02\n",
      " 7.00988098e+02 4.08054932e+02 5.16632141e+02 5.04830566e+02\n",
      " 7.22487305e+02 7.91082458e+02 5.16529175e+02 7.37577820e+02\n",
      " 6.52721680e+02 5.86079041e+02 5.72127930e+02 5.16697388e+02\n",
      " 3.64046021e+02 3.60230316e+02 3.05643036e+02 4.65226379e+02\n",
      " 4.06935760e+02 3.16732941e+02 6.44432129e+02 6.52871521e+02\n",
      " 2.36721130e+02 3.14532654e+02 7.29578308e+02 7.67362671e+02\n",
      " 5.14356262e+02 4.97543945e+02 2.02308853e+02 3.34842743e+02\n",
      " 1.78405762e+02 1.42253769e+02 3.96291321e+02 4.83255127e+02\n",
      " 2.58179382e+02 3.03074127e+02 3.09849823e+02 3.87294312e+02\n",
      " 2.91901825e+02 4.11716461e+02 3.75639130e+02 2.00498993e+02\n",
      " 2.28386017e+02 4.58615662e+02 5.37603394e+02 4.18062134e+02\n",
      " 3.12387054e+02 3.22384277e+02 3.04082275e+02 4.54885132e+02\n",
      " 4.11975403e+02 4.36362640e+02 3.44868561e+02 1.81551865e+02\n",
      " 2.60980225e+02 4.31707336e+02 4.68764252e+02 2.75301392e+02\n",
      " 1.68166275e+02 1.83653381e+02 1.54280334e+02 9.41539764e+01\n",
      " 2.12707672e+02 2.22518967e+02 1.79212753e+02 2.59901337e+02\n",
      " 3.28280670e+02 2.90685577e+02 2.79391510e+02 3.29117737e+02\n",
      " 5.14861572e+02 4.10230591e+02 2.46682144e+02 2.42647934e+02\n",
      " 3.17648041e+02 3.89453308e+02 3.13767029e+02 1.46135925e+02\n",
      " 1.23001656e+02 1.96449768e+02 6.55401611e+01 9.10899200e+01\n",
      " 1.23504211e+02 1.17467049e+02 1.50094086e+02 2.00176498e+02\n",
      " 1.98322678e+02 2.49793015e+02 2.44364258e+02 1.68092773e+02\n",
      " 1.37241776e+02 1.78622025e+02 1.77007034e+02 2.29609344e+02\n",
      " 3.09983826e+02 1.92678955e+02 1.09927177e+02 1.15465630e+02\n",
      " 1.06187286e+02 1.23564323e+02 1.02922279e+02 1.18811775e+02\n",
      " 1.34148926e+02 1.38562653e+02 1.18357780e+02 7.34123917e+01\n",
      " 6.33069801e+01 4.07941093e+01 1.03858414e+02 1.06491463e+02\n",
      " 1.17804749e+02 2.12025787e+02 1.26186180e+02 1.22779541e+02\n",
      " 1.25307137e+02 1.41651596e+02 1.59572327e+02 8.63254547e+01\n",
      " 1.02936890e+02 1.00513901e+02 1.34333588e+02 1.03910408e+02\n",
      " 8.57391663e+01 1.05047707e+02 1.57577118e+02 8.48553314e+01\n",
      " 3.75257225e+01 7.04960175e+01 5.90279045e+01 7.92851105e+01\n",
      " 1.15329384e+02 1.43020920e+02 1.29462799e+02 8.07175674e+01\n",
      " 5.42880859e+01 6.93066864e+01 8.43485184e+01 6.27631531e+01\n",
      " 5.78269119e+01 1.12020477e+02 9.62534790e+01 4.06988792e+01\n",
      " 3.28542519e+01 5.58201256e+01 8.30681076e+01 6.13139915e+01\n",
      " 7.26532974e+01 6.76662598e+01 5.84260139e+01 7.42558212e+01\n",
      " 4.99454117e+01 8.00330887e+01 8.97886963e+01 4.42324409e+01\n",
      " 3.29736977e+01 2.84563751e+01 4.78941040e+01 4.99505005e+01\n",
      " 5.32905312e+01 5.54148636e+01 3.20971794e+01 3.35445633e+01\n",
      " 2.81190300e+01 3.20436630e+01 9.86831512e+01 6.54777985e+01\n",
      " 1.48871698e+01 3.48621521e+01 5.60128555e+01 1.12508194e+02\n",
      " 8.47530365e+01 7.59828720e+01 6.66525040e+01 1.02072563e+02\n",
      " 9.85424423e+01 7.76858597e+01 4.28053284e+01 3.46512451e+01\n",
      " 5.87254791e+01 5.99869614e+01 4.36041565e+01 5.03446846e+01\n",
      " 6.41101685e+01 4.67233047e+01 1.90011082e+01 2.74648266e+01\n",
      " 4.08745155e+01 4.07332611e+01 4.14625664e+01 3.98514862e+01\n",
      " 2.09663696e+01 1.33372431e+01 2.52984505e+01 4.82319641e+01\n",
      " 6.99620438e+01 1.84889450e+01 1.38191919e+01 3.11049232e+01\n",
      " 4.77146072e+01 5.55188828e+01 5.56634789e+01 3.57720528e+01\n",
      " 4.25653152e+01 6.65267563e+01 4.45609474e+01 1.84228916e+01\n",
      " 4.70558052e+01 8.04459915e+01 6.76485672e+01 3.55713272e+01\n",
      " 3.45832596e+01 3.89655647e+01 2.05401764e+01 1.90679283e+01\n",
      " 2.65276947e+01 3.51015739e+01 4.75304413e+01 3.85433006e+01\n",
      " 1.33399134e+01 2.86388206e+01 8.28565502e+00 3.10725842e+01\n",
      " 1.71529751e+01 5.90367279e+01 5.72800713e+01 1.39102268e+01\n",
      " 3.69877434e+01 2.88073978e+01 3.11552734e+01 4.32664452e+01\n",
      " 5.12304268e+01 2.98547688e+01 2.31556377e+01 1.86598034e+01\n",
      " 5.48250999e+01 4.56330872e+01 3.31258812e+01 4.71386070e+01\n",
      " 4.02978745e+01 4.02493172e+01 3.41990013e+01 2.07859821e+01\n",
      " 2.58116989e+01 3.88797874e+01 3.43453140e+01 5.83992920e+01\n",
      " 7.93032455e+01 4.84844894e+01 4.54162445e+01 4.86536560e+01\n",
      " 1.48803549e+01 2.27418575e+01 3.59124069e+01 1.91817684e+01\n",
      " 1.00389748e+01 1.22197399e+01 1.70530605e+01 2.73100433e+01\n",
      " 2.41781158e+01 2.01006413e+01 2.19293938e+01 3.03840504e+01\n",
      " 2.15372143e+01 4.18534994e+00 1.43733425e+01 1.15328465e+01\n",
      " 1.08702841e+01 2.07994614e+01 2.32928600e+01 4.08854866e+01\n",
      " 4.72619362e+01 2.59908314e+01 2.05170040e+01 1.92724915e+01\n",
      " 1.82558346e+01 2.17758026e+01 2.17059860e+01 4.28983994e+01\n",
      " 2.00540237e+01 1.96468887e+01 2.45500793e+01 2.62015533e+01\n",
      " 2.59115238e+01 2.54348755e+01 1.86981869e+01 9.28058338e+00\n",
      " 1.46943922e+01 3.69510536e+01 1.68847980e+01 1.71472816e+01\n",
      " 2.73156147e+01 2.67958298e+01 1.90588760e+01 2.22236824e+01\n",
      " 2.11991920e+01 2.06042576e+01 1.80571041e+01 9.21868610e+00\n",
      " 1.30470667e+01 1.40012379e+01 1.48565350e+01 1.37151031e+01\n",
      " 1.42337151e+01 3.35341530e+01 4.01544304e+01 1.97591839e+01\n",
      " 1.43544216e+01 1.86107292e+01 2.66168194e+01 2.30422840e+01\n",
      " 1.36088066e+01 1.27714939e+01 6.54953480e+00 1.82808094e+01\n",
      " 1.24005070e+01 9.30120754e+00 2.02419224e+01 2.11834068e+01\n",
      " 3.19270515e+01 3.29031296e+01 3.17012501e+01 3.14449596e+01\n",
      " 2.99044876e+01 2.06095276e+01 1.15340652e+01 1.73029919e+01\n",
      " 3.48162651e+01 1.95347157e+01 1.08686485e+01 1.59533691e+01\n",
      " 2.79059639e+01 1.87616310e+01 7.37330246e+00 1.78684483e+01\n",
      " 1.78031330e+01 1.16381397e+01 1.80505772e+01 1.89834995e+01\n",
      " 1.13509645e+01 1.24964819e+01 1.11090631e+01 6.61735344e+00\n",
      " 1.41339178e+01 1.33571901e+01 7.84986687e+00 9.93445683e+00\n",
      " 1.44394569e+01 1.20364962e+01 2.11139164e+01 2.40807362e+01\n",
      " 1.47751884e+01 1.40954266e+01 2.38937340e+01 2.19474258e+01\n",
      " 1.91688385e+01 2.04590473e+01 1.19006214e+01 2.09413929e+01\n",
      " 2.98816872e+01 2.93664780e+01 2.12181320e+01 1.56568441e+01\n",
      " 1.26910467e+01 1.33440180e+01 1.15034361e+01 7.94400120e+00\n",
      " 1.25782194e+01 1.19039373e+01 9.64190960e+00 2.06803303e+01\n",
      " 1.58469172e+01 1.82515011e+01 1.67296658e+01 1.31323490e+01\n",
      " 1.55562582e+01 1.23394651e+01 1.63232098e+01 1.08395166e+01\n",
      " 1.83034878e+01 1.33659182e+01 8.37722301e+00 1.75750313e+01\n",
      " 1.38768482e+01 2.15235062e+01 2.42978497e+01 1.93444614e+01\n",
      " 1.82169285e+01 2.80812798e+01 2.01896305e+01 1.49934902e+01\n",
      " 7.74660444e+00 1.01741629e+01 1.48616924e+01 2.10297489e+01\n",
      " 1.19744320e+01 1.49690351e+01 9.99443340e+00 1.59963980e+01\n",
      " 1.02486153e+01 9.33536053e+00 1.23699293e+01 1.38256788e+01\n",
      " 1.26474247e+01 1.32833004e+01 7.95363045e+00 9.17970181e+00\n",
      " 2.19906025e+01 1.76165199e+01 1.15055981e+01 1.73031235e+01\n",
      " 1.60766335e+01 1.14817171e+01 1.42761641e+01 1.97076740e+01\n",
      " 1.52307320e+01 4.40252066e+00 7.51662683e+00 1.14390945e+01\n",
      " 7.84911346e+00 4.00955963e+00 1.62270489e+01 1.62728863e+01\n",
      " 1.78972950e+01 3.02881680e+01 2.17466602e+01 1.30894575e+01\n",
      " 8.73092747e+00 6.31844378e+00 6.89100409e+00 7.82133102e+00\n",
      " 4.31265068e+00]\n"
     ]
    }
   ],
   "source": [
    "from scipy.signal import welch\n",
    "\n",
    "epoch = epochs[0, :, 0]  # 1 channel, 1 trial, shape: (samples,)\n",
    "\n",
    "f, Pxx = welch(epoch, fs=fs, nperseg=fs*2)"
   ]
  },
  {
   "cell_type": "code",
   "execution_count": 33,
   "id": "38ce6a23-cfc8-467a-9858-e8627fbb9436",
   "metadata": {},
   "outputs": [
    {
     "name": "stdout",
     "output_type": "stream",
     "text": [
      "frequency:  [  0.    0.5   1.    1.5   2.    2.5   3.    3.5   4.    4.5   5.    5.5\n",
      "   6.    6.5   7.    7.5   8.    8.5   9.    9.5  10.   10.5  11.   11.5\n",
      "  12.   12.5  13.   13.5  14.   14.5  15.   15.5  16.   16.5  17.   17.5\n",
      "  18.   18.5  19.   19.5  20.   20.5  21.   21.5  22.   22.5  23.   23.5\n",
      "  24.   24.5  25.   25.5  26.   26.5  27.   27.5  28.   28.5  29.   29.5\n",
      "  30.   30.5  31.   31.5  32.   32.5  33.   33.5  34.   34.5  35.   35.5\n",
      "  36.   36.5  37.   37.5  38.   38.5  39.   39.5  40.   40.5  41.   41.5\n",
      "  42.   42.5  43.   43.5  44.   44.5  45.   45.5  46.   46.5  47.   47.5\n",
      "  48.   48.5  49.   49.5  50.   50.5  51.   51.5  52.   52.5  53.   53.5\n",
      "  54.   54.5  55.   55.5  56.   56.5  57.   57.5  58.   58.5  59.   59.5\n",
      "  60.   60.5  61.   61.5  62.   62.5  63.   63.5  64.   64.5  65.   65.5\n",
      "  66.   66.5  67.   67.5  68.   68.5  69.   69.5  70.   70.5  71.   71.5\n",
      "  72.   72.5  73.   73.5  74.   74.5  75.   75.5  76.   76.5  77.   77.5\n",
      "  78.   78.5  79.   79.5  80.   80.5  81.   81.5  82.   82.5  83.   83.5\n",
      "  84.   84.5  85.   85.5  86.   86.5  87.   87.5  88.   88.5  89.   89.5\n",
      "  90.   90.5  91.   91.5  92.   92.5  93.   93.5  94.   94.5  95.   95.5\n",
      "  96.   96.5  97.   97.5  98.   98.5  99.   99.5 100.  100.5 101.  101.5\n",
      " 102.  102.5 103.  103.5 104.  104.5 105.  105.5 106.  106.5 107.  107.5\n",
      " 108.  108.5 109.  109.5 110.  110.5 111.  111.5 112.  112.5 113.  113.5\n",
      " 114.  114.5 115.  115.5 116.  116.5 117.  117.5 118.  118.5 119.  119.5\n",
      " 120.  120.5 121.  121.5 122.  122.5 123.  123.5 124.  124.5 125.  125.5\n",
      " 126.  126.5 127.  127.5 128.  128.5 129.  129.5 130.  130.5 131.  131.5\n",
      " 132.  132.5 133.  133.5 134.  134.5 135.  135.5 136.  136.5 137.  137.5\n",
      " 138.  138.5 139.  139.5 140.  140.5 141.  141.5 142.  142.5 143.  143.5\n",
      " 144.  144.5 145.  145.5 146.  146.5 147.  147.5 148.  148.5 149.  149.5\n",
      " 150.  150.5 151.  151.5 152.  152.5 153.  153.5 154.  154.5 155.  155.5\n",
      " 156.  156.5 157.  157.5 158.  158.5 159.  159.5 160.  160.5 161.  161.5\n",
      " 162.  162.5 163.  163.5 164.  164.5 165.  165.5 166.  166.5 167.  167.5\n",
      " 168.  168.5 169.  169.5 170.  170.5 171.  171.5 172.  172.5 173.  173.5\n",
      " 174.  174.5 175.  175.5 176.  176.5 177.  177.5 178.  178.5 179.  179.5\n",
      " 180.  180.5 181.  181.5 182.  182.5 183.  183.5 184.  184.5 185.  185.5\n",
      " 186.  186.5 187.  187.5 188.  188.5 189.  189.5 190.  190.5 191.  191.5\n",
      " 192.  192.5 193.  193.5 194.  194.5 195.  195.5 196.  196.5 197.  197.5\n",
      " 198.  198.5 199.  199.5 200.  200.5 201.  201.5 202.  202.5 203.  203.5\n",
      " 204.  204.5 205.  205.5 206.  206.5 207.  207.5 208.  208.5 209.  209.5\n",
      " 210.  210.5 211.  211.5 212.  212.5 213.  213.5 214.  214.5 215.  215.5\n",
      " 216.  216.5 217.  217.5 218.  218.5 219.  219.5 220.  220.5 221.  221.5\n",
      " 222.  222.5 223.  223.5 224.  224.5 225.  225.5 226.  226.5 227.  227.5\n",
      " 228.  228.5 229.  229.5 230.  230.5 231.  231.5 232.  232.5 233.  233.5\n",
      " 234.  234.5 235.  235.5 236.  236.5 237.  237.5 238.  238.5 239.  239.5\n",
      " 240.  240.5 241.  241.5 242.  242.5 243.  243.5 244.  244.5 245.  245.5\n",
      " 246.  246.5 247.  247.5 248.  248.5 249.  249.5 250.  250.5 251.  251.5\n",
      " 252.  252.5 253.  253.5 254.  254.5 255.  255.5 256. ]\n",
      "Pxx:  [3.27999094e+05 9.60666562e+05 1.04702675e+06 7.51579375e+05\n",
      " 4.64011000e+05 3.03348438e+05 1.82719875e+05 1.07683547e+05\n",
      " 6.78772422e+04 4.89617148e+04 2.98046934e+04 1.58034756e+04\n",
      " 1.21423770e+04 8.74087402e+03 4.26708643e+03 5.62677979e+03\n",
      " 6.03632080e+03 3.51862964e+03 5.76556250e+03 8.00104736e+03\n",
      " 7.17045996e+03 4.90168896e+03 8.79181836e+03 1.25823164e+04\n",
      " 9.50388086e+03 3.46014404e+03 2.08142554e+03 1.40945813e+03\n",
      " 1.05618225e+03 1.06342322e+03 1.50216821e+03 1.33335181e+03\n",
      " 6.59001465e+02 5.20290161e+02 5.59653748e+02 7.92957031e+02\n",
      " 8.09273254e+02 6.58111572e+02 9.01147888e+02 1.26607251e+03\n",
      " 1.52525146e+03 2.93518164e+03 1.00017712e+03 9.66275818e+02\n",
      " 3.13834448e+03 3.22579663e+03 1.46667139e+03 9.34027649e+02\n",
      " 1.09017554e+03 1.83438208e+03 1.34152100e+03 1.49963013e+03\n",
      " 8.56054138e+02 1.70703442e+03 1.65280176e+03 1.15979968e+03\n",
      " 1.22642712e+03 5.59613220e+02 4.40078156e+02 1.01014178e+03\n",
      " 1.43637415e+03 1.04552637e+03 1.01279700e+03 9.32948364e+02\n",
      " 5.92980164e+02 5.23110535e+02 2.63236481e+02 4.18920013e+02\n",
      " 5.32328491e+02 4.32478577e+02 2.84723297e+02 4.22961029e+02\n",
      " 5.48268921e+02 7.33799194e+02 5.04832581e+02 1.67948090e+02\n",
      " 2.00279144e+02 3.93048492e+02 6.09976074e+02 5.74088013e+02\n",
      " 7.46103821e+02 8.00858765e+02 4.52184692e+02 6.79047058e+02\n",
      " 7.00988098e+02 4.08054932e+02 5.16632141e+02 5.04830566e+02\n",
      " 7.22487305e+02 7.91082458e+02 5.16529175e+02 7.37577820e+02\n",
      " 6.52721680e+02 5.86079041e+02 5.72127930e+02 5.16697388e+02\n",
      " 3.64046021e+02 3.60230316e+02 3.05643036e+02 4.65226379e+02\n",
      " 4.06935760e+02 3.16732941e+02 6.44432129e+02 6.52871521e+02\n",
      " 2.36721130e+02 3.14532654e+02 7.29578308e+02 7.67362671e+02\n",
      " 5.14356262e+02 4.97543945e+02 2.02308853e+02 3.34842743e+02\n",
      " 1.78405762e+02 1.42253769e+02 3.96291321e+02 4.83255127e+02\n",
      " 2.58179382e+02 3.03074127e+02 3.09849823e+02 3.87294312e+02\n",
      " 2.91901825e+02 4.11716461e+02 3.75639130e+02 2.00498993e+02\n",
      " 2.28386017e+02 4.58615662e+02 5.37603394e+02 4.18062134e+02\n",
      " 3.12387054e+02 3.22384277e+02 3.04082275e+02 4.54885132e+02\n",
      " 4.11975403e+02 4.36362640e+02 3.44868561e+02 1.81551865e+02\n",
      " 2.60980225e+02 4.31707336e+02 4.68764252e+02 2.75301392e+02\n",
      " 1.68166275e+02 1.83653381e+02 1.54280334e+02 9.41539764e+01\n",
      " 2.12707672e+02 2.22518967e+02 1.79212753e+02 2.59901337e+02\n",
      " 3.28280670e+02 2.90685577e+02 2.79391510e+02 3.29117737e+02\n",
      " 5.14861572e+02 4.10230591e+02 2.46682144e+02 2.42647934e+02\n",
      " 3.17648041e+02 3.89453308e+02 3.13767029e+02 1.46135925e+02\n",
      " 1.23001656e+02 1.96449768e+02 6.55401611e+01 9.10899200e+01\n",
      " 1.23504211e+02 1.17467049e+02 1.50094086e+02 2.00176498e+02\n",
      " 1.98322678e+02 2.49793015e+02 2.44364258e+02 1.68092773e+02\n",
      " 1.37241776e+02 1.78622025e+02 1.77007034e+02 2.29609344e+02\n",
      " 3.09983826e+02 1.92678955e+02 1.09927177e+02 1.15465630e+02\n",
      " 1.06187286e+02 1.23564323e+02 1.02922279e+02 1.18811775e+02\n",
      " 1.34148926e+02 1.38562653e+02 1.18357780e+02 7.34123917e+01\n",
      " 6.33069801e+01 4.07941093e+01 1.03858414e+02 1.06491463e+02\n",
      " 1.17804749e+02 2.12025787e+02 1.26186180e+02 1.22779541e+02\n",
      " 1.25307137e+02 1.41651596e+02 1.59572327e+02 8.63254547e+01\n",
      " 1.02936890e+02 1.00513901e+02 1.34333588e+02 1.03910408e+02\n",
      " 8.57391663e+01 1.05047707e+02 1.57577118e+02 8.48553314e+01\n",
      " 3.75257225e+01 7.04960175e+01 5.90279045e+01 7.92851105e+01\n",
      " 1.15329384e+02 1.43020920e+02 1.29462799e+02 8.07175674e+01\n",
      " 5.42880859e+01 6.93066864e+01 8.43485184e+01 6.27631531e+01\n",
      " 5.78269119e+01 1.12020477e+02 9.62534790e+01 4.06988792e+01\n",
      " 3.28542519e+01 5.58201256e+01 8.30681076e+01 6.13139915e+01\n",
      " 7.26532974e+01 6.76662598e+01 5.84260139e+01 7.42558212e+01\n",
      " 4.99454117e+01 8.00330887e+01 8.97886963e+01 4.42324409e+01\n",
      " 3.29736977e+01 2.84563751e+01 4.78941040e+01 4.99505005e+01\n",
      " 5.32905312e+01 5.54148636e+01 3.20971794e+01 3.35445633e+01\n",
      " 2.81190300e+01 3.20436630e+01 9.86831512e+01 6.54777985e+01\n",
      " 1.48871698e+01 3.48621521e+01 5.60128555e+01 1.12508194e+02\n",
      " 8.47530365e+01 7.59828720e+01 6.66525040e+01 1.02072563e+02\n",
      " 9.85424423e+01 7.76858597e+01 4.28053284e+01 3.46512451e+01\n",
      " 5.87254791e+01 5.99869614e+01 4.36041565e+01 5.03446846e+01\n",
      " 6.41101685e+01 4.67233047e+01 1.90011082e+01 2.74648266e+01\n",
      " 4.08745155e+01 4.07332611e+01 4.14625664e+01 3.98514862e+01\n",
      " 2.09663696e+01 1.33372431e+01 2.52984505e+01 4.82319641e+01\n",
      " 6.99620438e+01 1.84889450e+01 1.38191919e+01 3.11049232e+01\n",
      " 4.77146072e+01 5.55188828e+01 5.56634789e+01 3.57720528e+01\n",
      " 4.25653152e+01 6.65267563e+01 4.45609474e+01 1.84228916e+01\n",
      " 4.70558052e+01 8.04459915e+01 6.76485672e+01 3.55713272e+01\n",
      " 3.45832596e+01 3.89655647e+01 2.05401764e+01 1.90679283e+01\n",
      " 2.65276947e+01 3.51015739e+01 4.75304413e+01 3.85433006e+01\n",
      " 1.33399134e+01 2.86388206e+01 8.28565502e+00 3.10725842e+01\n",
      " 1.71529751e+01 5.90367279e+01 5.72800713e+01 1.39102268e+01\n",
      " 3.69877434e+01 2.88073978e+01 3.11552734e+01 4.32664452e+01\n",
      " 5.12304268e+01 2.98547688e+01 2.31556377e+01 1.86598034e+01\n",
      " 5.48250999e+01 4.56330872e+01 3.31258812e+01 4.71386070e+01\n",
      " 4.02978745e+01 4.02493172e+01 3.41990013e+01 2.07859821e+01\n",
      " 2.58116989e+01 3.88797874e+01 3.43453140e+01 5.83992920e+01\n",
      " 7.93032455e+01 4.84844894e+01 4.54162445e+01 4.86536560e+01\n",
      " 1.48803549e+01 2.27418575e+01 3.59124069e+01 1.91817684e+01\n",
      " 1.00389748e+01 1.22197399e+01 1.70530605e+01 2.73100433e+01\n",
      " 2.41781158e+01 2.01006413e+01 2.19293938e+01 3.03840504e+01\n",
      " 2.15372143e+01 4.18534994e+00 1.43733425e+01 1.15328465e+01\n",
      " 1.08702841e+01 2.07994614e+01 2.32928600e+01 4.08854866e+01\n",
      " 4.72619362e+01 2.59908314e+01 2.05170040e+01 1.92724915e+01\n",
      " 1.82558346e+01 2.17758026e+01 2.17059860e+01 4.28983994e+01\n",
      " 2.00540237e+01 1.96468887e+01 2.45500793e+01 2.62015533e+01\n",
      " 2.59115238e+01 2.54348755e+01 1.86981869e+01 9.28058338e+00\n",
      " 1.46943922e+01 3.69510536e+01 1.68847980e+01 1.71472816e+01\n",
      " 2.73156147e+01 2.67958298e+01 1.90588760e+01 2.22236824e+01\n",
      " 2.11991920e+01 2.06042576e+01 1.80571041e+01 9.21868610e+00\n",
      " 1.30470667e+01 1.40012379e+01 1.48565350e+01 1.37151031e+01\n",
      " 1.42337151e+01 3.35341530e+01 4.01544304e+01 1.97591839e+01\n",
      " 1.43544216e+01 1.86107292e+01 2.66168194e+01 2.30422840e+01\n",
      " 1.36088066e+01 1.27714939e+01 6.54953480e+00 1.82808094e+01\n",
      " 1.24005070e+01 9.30120754e+00 2.02419224e+01 2.11834068e+01\n",
      " 3.19270515e+01 3.29031296e+01 3.17012501e+01 3.14449596e+01\n",
      " 2.99044876e+01 2.06095276e+01 1.15340652e+01 1.73029919e+01\n",
      " 3.48162651e+01 1.95347157e+01 1.08686485e+01 1.59533691e+01\n",
      " 2.79059639e+01 1.87616310e+01 7.37330246e+00 1.78684483e+01\n",
      " 1.78031330e+01 1.16381397e+01 1.80505772e+01 1.89834995e+01\n",
      " 1.13509645e+01 1.24964819e+01 1.11090631e+01 6.61735344e+00\n",
      " 1.41339178e+01 1.33571901e+01 7.84986687e+00 9.93445683e+00\n",
      " 1.44394569e+01 1.20364962e+01 2.11139164e+01 2.40807362e+01\n",
      " 1.47751884e+01 1.40954266e+01 2.38937340e+01 2.19474258e+01\n",
      " 1.91688385e+01 2.04590473e+01 1.19006214e+01 2.09413929e+01\n",
      " 2.98816872e+01 2.93664780e+01 2.12181320e+01 1.56568441e+01\n",
      " 1.26910467e+01 1.33440180e+01 1.15034361e+01 7.94400120e+00\n",
      " 1.25782194e+01 1.19039373e+01 9.64190960e+00 2.06803303e+01\n",
      " 1.58469172e+01 1.82515011e+01 1.67296658e+01 1.31323490e+01\n",
      " 1.55562582e+01 1.23394651e+01 1.63232098e+01 1.08395166e+01\n",
      " 1.83034878e+01 1.33659182e+01 8.37722301e+00 1.75750313e+01\n",
      " 1.38768482e+01 2.15235062e+01 2.42978497e+01 1.93444614e+01\n",
      " 1.82169285e+01 2.80812798e+01 2.01896305e+01 1.49934902e+01\n",
      " 7.74660444e+00 1.01741629e+01 1.48616924e+01 2.10297489e+01\n",
      " 1.19744320e+01 1.49690351e+01 9.99443340e+00 1.59963980e+01\n",
      " 1.02486153e+01 9.33536053e+00 1.23699293e+01 1.38256788e+01\n",
      " 1.26474247e+01 1.32833004e+01 7.95363045e+00 9.17970181e+00\n",
      " 2.19906025e+01 1.76165199e+01 1.15055981e+01 1.73031235e+01\n",
      " 1.60766335e+01 1.14817171e+01 1.42761641e+01 1.97076740e+01\n",
      " 1.52307320e+01 4.40252066e+00 7.51662683e+00 1.14390945e+01\n",
      " 7.84911346e+00 4.00955963e+00 1.62270489e+01 1.62728863e+01\n",
      " 1.78972950e+01 3.02881680e+01 2.17466602e+01 1.30894575e+01\n",
      " 8.73092747e+00 6.31844378e+00 6.89100409e+00 7.82133102e+00\n",
      " 4.31265068e+00]\n"
     ]
    }
   ],
   "source": [
    "print(\"frequency: \", f)\n",
    "print(\"Pxx: \", Pxx)"
   ]
  },
  {
   "cell_type": "code",
   "execution_count": 37,
   "id": "224fb3a6-df21-4a0f-9eb8-c6302415237c",
   "metadata": {},
   "outputs": [],
   "source": [
    "\n",
    "\n",
    "mu_band = (8, 13)\n",
    "band_mask = (f >= mu_band[0]) & (f <= mu_band[1])\n",
    "mu_power = np.trapezoid(Pxx[band_mask], f[band_mask])"
   ]
  },
  {
   "cell_type": "code",
   "execution_count": 41,
   "id": "c9219e1c-91f7-4148-b82b-576dd28486f9",
   "metadata": {},
   "outputs": [
    {
     "ename": "NameError",
     "evalue": "name 'ch' is not defined",
     "output_type": "error",
     "traceback": [
      "\u001b[31m---------------------------------------------------------------------------\u001b[39m",
      "\u001b[31mNameError\u001b[39m                                 Traceback (most recent call last)",
      "\u001b[36mCell\u001b[39m\u001b[36m \u001b[39m\u001b[32mIn[41]\u001b[39m\u001b[32m, line 4\u001b[39m\n\u001b[32m      2\u001b[39m plt.semilogy(f, Pxx, color=\u001b[33m'\u001b[39m\u001b[33mroyalblue\u001b[39m\u001b[33m'\u001b[39m)\n\u001b[32m      3\u001b[39m plt.axvspan(mu_band[\u001b[32m0\u001b[39m], mu_band[\u001b[32m1\u001b[39m], color=\u001b[33m'\u001b[39m\u001b[33morange\u001b[39m\u001b[33m'\u001b[39m, alpha=\u001b[32m0.3\u001b[39m, label=\u001b[33m'\u001b[39m\u001b[33mMu Band (8–13 Hz)\u001b[39m\u001b[33m'\u001b[39m)\n\u001b[32m----> \u001b[39m\u001b[32m4\u001b[39m plt.title(\u001b[33mf\u001b[39m\u001b[33m'\u001b[39m\u001b[33mChannel \u001b[39m\u001b[38;5;132;01m{\u001b[39;00m\u001b[43mch\u001b[49m+\u001b[32m1\u001b[39m\u001b[38;5;132;01m}\u001b[39;00m\u001b[33m, Trial \u001b[39m\u001b[38;5;132;01m{\u001b[39;00mtrial+\u001b[32m1\u001b[39m\u001b[38;5;132;01m}\u001b[39;00m\u001b[38;5;130;01m\\n\u001b[39;00m\u001b[33mPSD (µV²/Hz)\u001b[39m\u001b[38;5;130;01m\\n\u001b[39;00m\u001b[33mMu Power = \u001b[39m\u001b[38;5;132;01m{\u001b[39;00mmu_power\u001b[38;5;132;01m:\u001b[39;00m\u001b[33m.2f\u001b[39m\u001b[38;5;132;01m}\u001b[39;00m\u001b[33m'\u001b[39m, fontsize=\u001b[32m12\u001b[39m, fontweight=\u001b[33m'\u001b[39m\u001b[33mbold\u001b[39m\u001b[33m'\u001b[39m)\n\u001b[32m      5\u001b[39m plt.xlabel(\u001b[33m'\u001b[39m\u001b[33mFrequency (Hz)\u001b[39m\u001b[33m'\u001b[39m)\n\u001b[32m      6\u001b[39m plt.ylabel(\u001b[33m'\u001b[39m\u001b[33mPower (µV²/Hz)\u001b[39m\u001b[33m'\u001b[39m)\n",
      "\u001b[31mNameError\u001b[39m: name 'ch' is not defined"
     ]
    },
    {
     "data": {
      "image/png": "[encoded data removed]",
      "text/plain": [
       "<Figure size 800x400 with 1 Axes>"
      ]
     },
     "metadata": {},
     "output_type": "display_data"
    }
   ],
   "source": [
    "plt.figure(figsize=(8, 4))\n",
    "plt.semilogy(f, Pxx, color='royalblue')\n",
    "plt.axvspan(mu_band[0], mu_band[1], color='orange', alpha=0.3, label='Mu Band (8–13 Hz)')\n",
    "plt.title(f'Channel {ch+1}, Trial {trial+1}\\nPSD (µV²/Hz)\\nMu Power = {mu_power:.2f}', fontsize=12, fontweight='bold')\n",
    "plt.xlabel('Frequency (Hz)')\n",
    "plt.ylabel('Power (µV²/Hz)')\n",
    "plt.legend()\n",
    "plt.grid(True, which='both', linestyle='--', alpha=0.4)\n",
    "plt.show()"
   ]
  }
 ],
 "metadata": {
  "kernelspec": {
   "display_name": "Python 3 (ipykernel)",
   "language": "python",
   "name": "python3"
  },
  "language_info": {
   "codemirror_mode": {
    "name": "ipython",
    "version": 3
   },
   "file_extension": ".py",
   "mimetype": "text/x-python",
   "name": "python",
   "nbconvert_exporter": "python",
   "pygments_lexer": "ipython3",
   "version": "3.11.11"
  }
 },
 "nbformat": 4,
 "nbformat_minor": 5
}
