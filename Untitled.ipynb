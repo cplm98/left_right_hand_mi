{
 "cells": [
  {
   "cell_type": "code",
   "execution_count": 1,
   "id": "a6453500-6986-4bba-83cf-ea352aa17d5a",
   "metadata": {},
   "outputs": [],
   "source": [
    "from scipy.io import loadmat\n",
    "import numpy as np\n",
    "import matplotlib.pyplot as plt\n",
    "np.set_printoptions(threshold=np.inf, linewidth=200, suppress=True)"
   ]
  },
  {
   "cell_type": "code",
   "execution_count": 2,
   "id": "5c538c21-d11f-4aec-a41d-ba0dd30c2723",
   "metadata": {},
   "outputs": [],
   "source": [
    "# Path to your .mat file\n",
    "mat_file_path = 'Data/s01.mat' \n",
    "\n",
    "mat = loadmat(\n",
    "    mat_file_path,\n",
    "    struct_as_record=False,   # access fields as attributes\n",
    "    squeeze_me=True,          # drop trivial dimensions (so 1x1 -> scalar)\n",
    "    simplify_cells=True       # convert MATLAB cell arrays to Python lists\n",
    ")"
   ]
  },
  {
   "cell_type": "code",
   "execution_count": 7,
   "id": "d701724c-705e-418d-9219-7ed405fbb072",
   "metadata": {},
   "outputs": [
    {
     "name": "stdout",
     "output_type": "stream",
     "text": [
      "dict_keys(['noise', 'rest', 'srate', 'movement_left', 'movement_right', 'movement_event', 'n_movement_trials', 'imagery_left', 'imagery_right', 'n_imagery_trials', 'frame', 'imagery_event', 'comment', 'subject', 'bad_trial_indices', 'psenloc', 'senloc'])\n"
     ]
    }
   ],
   "source": [
    "print(mat[\"eeg\"].keys())"
   ]
  },
  {
   "cell_type": "code",
   "execution_count": 8,
   "id": "2f721951-d30b-4470-ac28-d1b7a9043a3e",
   "metadata": {},
   "outputs": [
    {
     "name": "stdout",
     "output_type": "stream",
     "text": [
      "noise\n",
      "rest\n",
      "srate\n",
      "movement_left\n",
      "movement_right\n",
      "movement_event\n",
      "n_movement_trials\n",
      "imagery_left\n",
      "imagery_right\n",
      "n_imagery_trials\n",
      "frame\n",
      "imagery_event\n",
      "comment\n",
      "subject\n",
      "bad_trial_indices\n",
      "psenloc\n",
      "senloc\n"
     ]
    }
   ],
   "source": [
    "for key in mat[\"eeg\"].keys():\n",
    "    print(key)"
   ]
  },
  {
   "cell_type": "code",
   "execution_count": null,
   "id": "0ae9068c-fd05-43a9-974c-1840c8cfd065",
   "metadata": {},
   "outputs": [],
   "source": []
  }
 ],
 "metadata": {
  "kernelspec": {
   "display_name": "Python 3 (ipykernel)",
   "language": "python",
   "name": "python3"
  },
  "language_info": {
   "codemirror_mode": {
    "name": "ipython",
    "version": 3
   },
   "file_extension": ".py",
   "mimetype": "text/x-python",
   "name": "python",
   "nbconvert_exporter": "python",
   "pygments_lexer": "ipython3",
   "version": "3.11.11"
  }
 },
 "nbformat": 4,
 "nbformat_minor": 5
}
