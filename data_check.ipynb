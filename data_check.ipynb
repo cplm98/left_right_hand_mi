{
 "cells": [
  {
   "cell_type": "code",
   "execution_count": 1,
   "id": "92bc3d19-bf2d-44a8-b59d-b457628f7775",
   "metadata": {},
   "outputs": [],
   "source": [
    "from scipy.io import loadmat\n",
    "import numpy as np"
   ]
  },
  {
   "cell_type": "code",
   "execution_count": 2,
   "id": "9c22305b-acff-48f4-aeb5-32c8b646ad04",
   "metadata": {},
   "outputs": [],
   "source": [
    "# Path to your .mat file\n",
    "mat_file_path = 'Data/s01.mat' \n",
    "\n",
    "mat = loadmat(\n",
    "    mat_file_path,\n",
    "    struct_as_record=False,   # access fields as attributes\n",
    "    squeeze_me=True,          # drop trivial dimensions (so 1x1 -> scalar)\n",
    "    simplify_cells=True       # convert MATLAB cell arrays to Python lists\n",
    ")"
   ]
  },
  {
   "cell_type": "code",
   "execution_count": 7,
   "id": "aa40a627-26b5-43de-b226-7e0da21b9fbd",
   "metadata": {},
   "outputs": [],
   "source": [
    "def walk(name, obj, depth=0, max_depth=6):\n",
    "    indent = \"  \" * depth\n",
    "    if depth > max_depth:\n",
    "        print(f\"{indent}{name}: … (max depth reached)\")\n",
    "        return\n",
    "\n",
    "    if isinstance(obj, dict):\n",
    "        print(f\"{indent}{name}: dict[{len(obj)}]\")\n",
    "        for k, v in obj.items():\n",
    "            if not k.startswith(\"__\"):\n",
    "                walk(f\".{k}\", v, depth+1, max_depth)\n",
    "    elif hasattr(obj, \"__dict__\") and hasattr(obj, \"_fieldnames\"):\n",
    "        # scipy loads MATLAB structs as objects with _fieldnames\n",
    "        print(f\"{indent}{name}: matlab_struct with fields {list(obj._fieldnames)}\")\n",
    "        for fld in obj._fieldnames:\n",
    "            walk(f\".{fld}\", getattr(obj, fld), depth+1, max_depth)\n",
    "    elif isinstance(obj, np.ndarray):\n",
    "        if obj.dtype.names is not None:\n",
    "            # struct array: each element has named fields\n",
    "            print(f\"{indent}{name}: struct_array shape={obj.shape} fields={obj.dtype.names}\")\n",
    "            it = np.nditer(obj, flags=['refs_ok', 'multi_index'])\n",
    "            count = 0\n",
    "            for x in it:\n",
    "                if count > 3:\n",
    "                    print(f\"{indent}  … ({obj.size - 4} more elements)\")\n",
    "                    break\n",
    "                walk(f\"{name}[{it.multi_index}]\", x.item(), depth+1, max_depth)\n",
    "                count += 1\n",
    "        elif obj.dtype == object:\n",
    "            print(f\"{indent}{name}: object_array shape={obj.shape}\")\n",
    "            flat = obj.ravel()\n",
    "            for i, el in enumerate(flat[:4]):\n",
    "                walk(f\"{name}[{i}]\", el, depth+1, max_depth)\n",
    "            if flat.size > 4:\n",
    "                print(f\"{indent}  … ({flat.size - 4} more elements)\")\n",
    "        else:\n",
    "            print(f\"{indent}{name}: ndarray shape={obj.shape} dtype={obj.dtype}\")\n",
    "    else:\n",
    "        print(f\"{indent}{name}: {type(obj).__name__} -> {repr(obj)[:80]}\")"
   ]
  },
  {
   "cell_type": "code",
   "execution_count": 8,
   "id": "9be60611-3b62-467b-a591-c0012fe82433",
   "metadata": {},
   "outputs": [
    {
     "name": "stdout",
     "output_type": "stream",
     "text": [
      "eeg: dict[17]\n",
      "  .noise: object_array shape=(5,)\n",
      "    .noise[0]: ndarray shape=(68, 5120) dtype=float32\n",
      "    .noise[1]: ndarray shape=(68, 5120) dtype=float32\n",
      "    .noise[2]: ndarray shape=(68, 5120) dtype=float32\n",
      "    .noise[3]: ndarray shape=(68, 5120) dtype=float32\n",
      "    … (1 more elements)\n",
      "  .rest: ndarray shape=(68, 34048) dtype=float32\n",
      "  .srate: int -> 512\n",
      "  .movement_left: ndarray shape=(68, 71680) dtype=float32\n",
      "  .movement_right: ndarray shape=(68, 71680) dtype=float32\n",
      "  .movement_event: ndarray shape=(71680,) dtype=uint8\n",
      "  .n_movement_trials: int -> 20\n",
      "  .imagery_left: ndarray shape=(68, 358400) dtype=float32\n",
      "  .imagery_right: ndarray shape=(68, 358400) dtype=float32\n",
      "  .n_imagery_trials: int -> 100\n",
      "  .frame: ndarray shape=(2,) dtype=int16\n",
      "  .imagery_event: ndarray shape=(358400,) dtype=uint8\n",
      "  .comment: str -> 'bci2011v1 left/right motor imagery'\n",
      "  .subject: str -> 'subject 1'\n",
      "  .bad_trial_indices: dict[2]\n",
      "    .bad_trial_idx_voltage: object_array shape=(2,)\n",
      "      .bad_trial_idx_voltage[0]: ndarray shape=(0,) dtype=uint8\n",
      "      .bad_trial_idx_voltage[1]: ndarray shape=(0,) dtype=uint8\n",
      "    .bad_trial_idx_mi: object_array shape=(2,)\n",
      "      .bad_trial_idx_mi[0]: ndarray shape=(0,) dtype=uint8\n",
      "      .bad_trial_idx_mi[1]: ndarray shape=(0,) dtype=uint8\n",
      "  .psenloc: ndarray shape=(64, 3) dtype=float64\n",
      "  .senloc: ndarray shape=(64, 3) dtype=float64\n"
     ]
    }
   ],
   "source": [
    "for k, v in mat.items():\n",
    "    if not k.startswith(\"__\"):\n",
    "        walk(k, v)"
   ]
  },
  {
   "cell_type": "markdown",
   "id": "46f5f23d-6792-4963-8102-671806591836",
   "metadata": {},
   "source": [
    "What it means:\n",
    "\n",
    "Sampling rate: srate = 512 Hz → 1 sample = 1/512 s.\n",
    "\n",
    "Channels: arrays are (68, N). You also have senloc and psenloc with shape (64, 3), so the first 64 rows are EEG (with 3D sensor locations), and the last 4 are likely aux (EOG/EMG/triggers/etc.).\n",
    "\n",
    "Trials & durations (do a quick consistency check):\n",
    "\n",
    "Movement: n_movement_trials = 20, arrays movement_left/right are (68, 71680) → samples per trial = 71680 / 20 = 3584 → 3584/512 = 7.0 s/trial.\n",
    "\n",
    "Imagery: n_imagery_trials = 100, arrays (68, 358400) → 358400 / 100 = 3584 → 7.0 s/trial.\n",
    "\n",
    "Noise: 5 segments, each (68, 5120) → 5120/512 = 10.0 s each.\n",
    "\n",
    "The movement_event and imagery_event vectors (uint8, length equal to the sample count) look like per-sample annotations (e.g., 0=baseline, 1=left, 2=right) concatenated across trials."
   ]
  },
  {
   "cell_type": "code",
   "execution_count": 9,
   "id": "99359627-3492-45fb-8b02-517681a85c3a",
   "metadata": {},
   "outputs": [],
   "source": [
    "eeg = mat[\"eeg\"]  # or whatever your top-level dict key is\n",
    "\n",
    "srate = int(eeg[\"srate\"])\n",
    "n_ch_all = 68\n",
    "n_eeg = 64\n",
    "eeg_idx = np.arange(n_eeg)\n",
    "aux_idx = np.arange(n_eeg, n_ch_all)\n",
    "\n",
    "# Movement\n",
    "mov_L = eeg[\"movement_left\"]      # (68, 71680)\n",
    "mov_R = eeg[\"movement_right\"]     # (68, 71680)\n",
    "mov_evt = eeg[\"movement_event\"]   # (71680,)\n",
    "n_mov_trials = int(eeg[\"n_movement_trials\"])\n",
    "\n",
    "samps_per_trial_mov = mov_L.shape[1] // n_mov_trials\n",
    "assert mov_L.shape[1] % n_mov_trials == 0 and mov_R.shape[1] % n_mov_trials == 0\n",
    "assert mov_evt.shape[0] == mov_L.shape[1] == mov_R.shape[1]\n",
    "\n",
    "mov_L_ep = np.reshape(mov_L, (n_ch_all, samps_per_trial_mov, n_mov_trials), order=\"F\")\n",
    "mov_R_ep = np.reshape(mov_R, (n_ch_all, samps_per_trial_mov, n_mov_trials), order=\"F\")\n",
    "mov_evt_ep = np.reshape(mov_evt, (samps_per_trial_mov, n_mov_trials), order=\"F\")\n",
    "\n",
    "# Imagery\n",
    "img_L = eeg[\"imagery_left\"]       # (68, 358400)\n",
    "img_R = eeg[\"imagery_right\"]      # (68, 358400)\n",
    "img_evt = eeg[\"imagery_event\"]    # (358400,)\n",
    "n_img_trials = int(eeg[\"n_imagery_trials\"])\n",
    "\n",
    "samps_per_trial_img = img_L.shape[1] // n_img_trials\n",
    "assert img_L.shape[1] % n_img_trials == 0 and img_R.shape[1] % n_img_trials == 0\n",
    "assert img_evt.shape[0] == img_L.shape[1] == img_R.shape[1]\n",
    "\n",
    "img_L_ep = np.reshape(img_L, (n_ch_all, samps_per_trial_img, n_img_trials), order=\"F\")\n",
    "img_R_ep = np.reshape(img_R, (n_ch_all, samps_per_trial_img, n_img_trials), order=\"F\")\n",
    "img_evt_ep = np.reshape(img_evt, (samps_per_trial_img, n_img_trials), order=\"F\")\n",
    "\n",
    "# Noise segments are already separate blocks in an object array\n",
    "noise_blocks = [eeg[\"noise\"][i] for i in range(eeg[\"noise\"].shape[0])]  # each (68, 5120)\n",
    "\n",
    "# Time vectors\n",
    "t_mov = np.arange(samps_per_trial_mov) / srate\n",
    "t_img = np.arange(samps_per_trial_img) / srate\n"
   ]
  },
  {
   "cell_type": "code",
   "execution_count": 12,
   "id": "2743a750-fa66-4874-ba9e-3d602998d3b8",
   "metadata": {},
   "outputs": [
    {
     "name": "stdout",
     "output_type": "stream",
     "text": [
      "[0 1]\n",
      "3584\n"
     ]
    }
   ],
   "source": [
    "print(np.unique(img_evt_ep) )                # see codes\n",
    "print(len(img_evt_ep[:, 0]))     # length 3584\n"
   ]
  },
  {
   "cell_type": "code",
   "execution_count": null,
   "id": "e3378498-e655-4c75-9cbb-c67282bf53ce",
   "metadata": {},
   "outputs": [],
   "source": []
  }
 ],
 "metadata": {
  "kernelspec": {
   "display_name": "Python 3 (ipykernel)",
   "language": "python",
   "name": "python3"
  },
  "language_info": {
   "codemirror_mode": {
    "name": "ipython",
    "version": 3
   },
   "file_extension": ".py",
   "mimetype": "text/x-python",
   "name": "python",
   "nbconvert_exporter": "python",
   "pygments_lexer": "ipython3",
   "version": "3.11.11"
  }
 },
 "nbformat": 4,
 "nbformat_minor": 5
}
